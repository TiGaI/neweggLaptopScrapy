{
 "cells": [
  {
   "cell_type": "code",
   "execution_count": 13,
   "metadata": {
    "collapsed": true
   },
   "outputs": [],
   "source": [
    "import scrapy\n",
    "from laptopDeal.items import LaptopdealItem\n",
    "import re\n",
    "from scrapy.http.request import Request\n",
    "from scrapy_splash import SplashRequest\n",
    "import pandas as pd\n",
    "import csv\n",
    "import scrapy\n",
    "import scrapy.crawler as crawler\n",
    "from scrapy.crawler import CrawlerProcess\n",
    "from multiprocessing import Process, Queue\n",
    "from twisted.internet import reactor"
   ]
  },
  {
   "cell_type": "code",
   "execution_count": null,
   "metadata": {},
   "outputs": [],
   "source": [
    "class laptop(scrapy.Spider):\n",
    "    name = \"laptop\"\n",
    "    start_urls = [\n",
    "        'https://www.newegg.com/Laptops-Notebooks/SubCategory/ID-32?Tid=6740&PageSize=96']\n",
    "    \n",
    "    def parse(self, response):\n",
    "        rows = response.xpath(\"//div[contains(@class, 'item-container')]/div/a[1]/@href\").extract()\n",
    "        print(\"this is row\", rows[0:1])\n",
    "        for url in rows[0:1]:\n",
    "            yield Request(url=url, callback=self.parse_detail_page)\n",
    "\n",
    "    def parse_detail_page(self, response):\n",
    "        specsDict = {}\n",
    "        detail_url = response.xpath('//*[@id=\"Specs\"]/fieldset')\n",
    "        print(\"detail_url\")\n",
    "\n",
    "# the wrapper to make it run more times\n",
    "def run_spider(spider):\n",
    "    q = Queue()\n",
    "    p = Process(target=f, args=(q,))\n",
    "    p.start()\n",
    "    result = q.get()\n",
    "    p.join()\n",
    "\n",
    "    if result is not None:\n",
    "        raise result\n",
    "def f(q):\n",
    "    try:\n",
    "        runner = crawler.CrawlerRunner()\n",
    "        deferred = runner.crawl(spider)\n",
    "        deferred.addBoth(lambda _: reactor.stop())\n",
    "        reactor.run()\n",
    "        q.put(None)\n",
    "    except Exception as e:\n",
    "        q.put(e)       \n",
    "        \n",
    "run_spider(laptop)\n",
    "        "
   ]
  },
  {
   "cell_type": "code",
   "execution_count": null,
   "metadata": {},
   "outputs": [],
   "source": [
    "import scrapy\n",
    "import scrapy.crawler as crawler\n",
    "from multiprocessing import Process, Queue\n",
    "from twisted.internet import reactor\n",
    "\n",
    "# your spider\n",
    "class QuotesSpider(scrapy.Spider):\n",
    "    name = \"quotes\"\n",
    "    start_urls = ['http://quotes.toscrape.com/tag/humor/']\n",
    "\n",
    "    def parse(self, response):\n",
    "        for quote in response.css('div.quote'):\n",
    "            print(quote.css('span.text::text').extract_first())\n",
    "\n",
    "\n",
    "# the wrapper to make it run more times\n",
    "def run_spider(spider):\n",
    "    q = Queue()\n",
    "    p = Process(target=f, args=(q,))\n",
    "    p.start()\n",
    "    result = q.get()\n",
    "    p.join()\n",
    "\n",
    "    if result is not None:\n",
    "        raise result\n",
    "\n",
    "def f(q):\n",
    "    try:\n",
    "        runner = crawler.CrawlerRunner()\n",
    "        deferred = runner.crawl(spider)\n",
    "        deferred.addBoth(lambda _: reactor.stop())\n",
    "        reactor.run()\n",
    "        q.put(None)\n",
    "    except Exception as e:\n",
    "        q.put(e)\n",
    "        \n",
    "print('first run:')\n",
    "run_spider(QuotesSpider)\n"
   ]
  },
  {
   "cell_type": "code",
   "execution_count": null,
   "metadata": {
    "collapsed": true
   },
   "outputs": [],
   "source": []
  }
 ],
 "metadata": {
  "kernelspec": {
   "display_name": "Python 3",
   "language": "python",
   "name": "python3"
  },
  "language_info": {
   "codemirror_mode": {
    "name": "ipython",
    "version": 3
   },
   "file_extension": ".py",
   "mimetype": "text/x-python",
   "name": "python",
   "nbconvert_exporter": "python",
   "pygments_lexer": "ipython3",
   "version": "3.6.1"
  }
 },
 "nbformat": 4,
 "nbformat_minor": 2
}
